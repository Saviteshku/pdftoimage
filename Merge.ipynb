{
  "cells": [
    {
      "cell_type": "code",
      "execution_count": 25,
      "metadata": {},
      "outputs": [],
      "source": [
        "#Command to merge multiple pdf files\n",
        "import os\n",
        "from PyPDF2 import PdfReader, PdfWriter\n",
        "\n",
        "# Set the directory containing the PDF files\n",
        "directory = r'C:\\Users\\Savitesh Kushwaha\\Downloads\\certificates-28.03.2023'\n",
        "#directory = r'C:\\Users\\Savitesh Kushwaha\\Downloads\\certificates-28.03.2023\\new'\n",
        "#directory = r'C:\\Users\\Savitesh Kushwaha\\Downloads\\certificates-30.03.2023'\n",
        "#directory = r'C:\\Users\\Savitesh Kushwaha\\Downloads\\certificates-30.03.2023\\new'\n",
        "\n",
        "# Get all PDF files in the directory\n",
        "pdf_files = [os.path.join(directory, f) for f in os.listdir(directory) if os.path.isfile(os.path.join(directory, f)) and f.endswith('.pdf')]\n",
        "\n",
        "# Create a PDF writer object to merge the files\n",
        "writer = PdfWriter()\n",
        "\n",
        "# Loop through each PDF file and add its pages to the writer object\n",
        "for pdf_file in pdf_files:\n",
        "    with open(pdf_file, 'rb') as f:\n",
        "        reader = PdfReader(f)\n",
        "        for i in range(len(reader.pages)):\n",
        "            writer.add_page(reader.pages[i])\n",
        "\n",
        "# Save the merged PDF to a file\n",
        "with open(os.path.join(directory, 'merged2.pdf'), 'wb') as f:\n",
        "    writer.write(f)\n"
      ]
    },
    {
      "cell_type": "code",
      "execution_count": 1,
      "metadata": {},
      "outputs": [],
      "source": [
        "#command to convert pdf to image with digital sign\n",
        "import os\n",
        "from pdf2image import convert_from_path\n",
        "\n",
        "directory = r'C:\\Users\\Savitesh Kushwaha\\Downloads\\certificates-28.03.2023'\n",
        "\n",
        "# loop through all files in the directory\n",
        "for filename in os.listdir(directory):\n",
        "    if filename.endswith('.pdf'):\n",
        "        # construct the full file path\n",
        "        filepath = os.path.join(directory, filename)\n",
        "        \n",
        "        # convert PDF to list of images\n",
        "        images = convert_from_path(filepath)\n",
        "        \n",
        "        # save each image as a JPEG file\n",
        "        for i, image in enumerate(images):\n",
        "            image.save(os.path.join(directory, f\"{filename[:-4]}_page{i+1}.jpg\"), 'JPEG')\n",
        "\n",
        "\n",
        "#ReadMe  Poopler error\n",
        "\n",
        "#To fix this issue, you need to install poppler on your computer and make sure that it is included in the PATH environment variable. Here are the steps to install poppler on Windows:\n",
        "#Download the latest version of poppler for Windows from the following link: https://blog.alivate.com.au/poppler-windows/\n",
        "#Extract the contents of the downloaded ZIP file to a folder on your computer (e.g., C:\\poppler-21.03.0\\)\n",
        "#Add the bin subdirectory of the poppler folder to your PATH environment variable:\n",
        "#Open the Start menu and search for \"Environment Variables\"\n",
        "#Click on \"Edit the system environment variables\"\n",
        "#Click on the \"Environment Variables\" button\n",
        "#Under \"System Variables\", scroll down and find the \"Path\" variable, then click on \"Edit\"\n",
        "#Click on \"New\" and add the path to the bin subdirectory of the poppler folder (e.g., C:\\poppler-21.03.0\\bin\\)\n",
        "#Click \"OK\" to close all the windows\n"
      ]
    }
  ],
  "metadata": {
    "colab": {
      "name": "Time_Series_Forecasting_ML.ipynb",
      "provenance": []
    },
    "kernelspec": {
      "display_name": "Python 3",
      "language": "python",
      "name": "python3"
    },
    "language_info": {
      "codemirror_mode": {
        "name": "ipython",
        "version": 3
      },
      "file_extension": ".py",
      "mimetype": "text/x-python",
      "name": "python",
      "nbconvert_exporter": "python",
      "pygments_lexer": "ipython3",
      "version": "3.10.9"
    },
    "vscode": {
      "interpreter": {
        "hash": "88e52fb8fab35a1a0c1386abfc3bf24f06c4a15813c99ddc1e4656100d25773b"
      }
    }
  },
  "nbformat": 4,
  "nbformat_minor": 0
}
